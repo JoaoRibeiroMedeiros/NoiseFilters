{
  "nbformat": 4,
  "nbformat_minor": 0,
  "metadata": {
    "colab": {
      "name": "GameOfLife.ipynb",
      "provenance": [],
      "authorship_tag": "ABX9TyNlyKR/p5p8a3u8tvLWHHjV"
    },
    "kernelspec": {
      "name": "python3",
      "display_name": "Python 3"
    }
  },
  "cells": [
    {
      "cell_type": "code",
      "metadata": {
        "id": "D_bspxDDUKlW",
        "colab_type": "code",
        "colab": {
          "base_uri": "https://localhost:8080/",
          "height": 224
        },
        "outputId": "f809e228-6dc0-4eb9-a6c0-139f56c7e4ab"
      },
      "source": [
        "!pip install celluloid\n"
      ],
      "execution_count": 59,
      "outputs": [
        {
          "output_type": "stream",
          "text": [
            "Collecting celluloid\n",
            "  Downloading https://files.pythonhosted.org/packages/60/a7/7fbe80721c6f1b7370c4e50c77abe31b4d5cfeb58873d4d32f48ae5a0bae/celluloid-0.2.0-py3-none-any.whl\n",
            "Requirement already satisfied: matplotlib in /usr/local/lib/python3.6/dist-packages (from celluloid) (3.2.2)\n",
            "Requirement already satisfied: numpy>=1.11 in /usr/local/lib/python3.6/dist-packages (from matplotlib->celluloid) (1.18.5)\n",
            "Requirement already satisfied: cycler>=0.10 in /usr/local/lib/python3.6/dist-packages (from matplotlib->celluloid) (0.10.0)\n",
            "Requirement already satisfied: kiwisolver>=1.0.1 in /usr/local/lib/python3.6/dist-packages (from matplotlib->celluloid) (1.2.0)\n",
            "Requirement already satisfied: pyparsing!=2.0.4,!=2.1.2,!=2.1.6,>=2.0.1 in /usr/local/lib/python3.6/dist-packages (from matplotlib->celluloid) (2.4.7)\n",
            "Requirement already satisfied: python-dateutil>=2.1 in /usr/local/lib/python3.6/dist-packages (from matplotlib->celluloid) (2.8.1)\n",
            "Requirement already satisfied: six in /usr/local/lib/python3.6/dist-packages (from cycler>=0.10->matplotlib->celluloid) (1.15.0)\n",
            "Installing collected packages: celluloid\n",
            "Successfully installed celluloid-0.2.0\n"
          ],
          "name": "stdout"
        }
      ]
    },
    {
      "cell_type": "code",
      "metadata": {
        "id": "lNAC7cBTg-wo",
        "colab_type": "code",
        "colab": {}
      },
      "source": [
        "import numpy as np\n",
        "from celluloid import Camera"
      ],
      "execution_count": 62,
      "outputs": []
    },
    {
      "cell_type": "code",
      "metadata": {
        "id": "x8T8wMkziKGz",
        "colab_type": "code",
        "colab": {}
      },
      "source": [
        ""
      ],
      "execution_count": 61,
      "outputs": []
    },
    {
      "cell_type": "code",
      "metadata": {
        "id": "Zd2S60Tyf7bk",
        "colab_type": "code",
        "colab": {}
      },
      "source": [
        "def life_step(lattice):\n",
        "    \"\"\"Conway Game of life as I understood it\"\"\"\n",
        "    x = np.shape(lattice)[0]\n",
        "    y = np.shape(lattice)[1]\n",
        "\n",
        "    for i in range(0,x):\n",
        "        for j in range(0,y):\n",
        "            sum = 0\n",
        "            for k in [-1,0,1]:\n",
        "                for l in [-1,0,1]:\n",
        "                    if not (k ==0 and l ==0):     \n",
        "                        sum = sum + lattice[(i+k)%x][(j+l)%y]\n",
        "            if lattice[i][j] == 1:\n",
        "                if sum > 3: lattice[i][j] = 0 #overpopulation\n",
        "                elif sum in [2,3]: lattice[i][j] = 1 #stasis\n",
        "                elif sum in [0,1]: lattice[i][j] = 0 #underpopulation\n",
        "            elif lattice[i][j] == 0:\n",
        "                if sum == 3: lattice[i][j] = 1 #reproduction\n",
        "    return lattice"
      ],
      "execution_count": 23,
      "outputs": []
    },
    {
      "cell_type": "code",
      "metadata": {
        "id": "99gheS_lUWLA",
        "colab_type": "code",
        "colab": {}
      },
      "source": [
        "def generate_lattice(n,p):\n",
        "    lattice = np.zeros([n,n], dtype='int')\n",
        "    for i in range(0,n):\n",
        "        for j in range(0,n):\n",
        "            if np.random.uniform() < p:\n",
        "                lattice[i,j]=1\n",
        "    return lattice\n",
        "\n",
        "def generate_lattice_pq(n,p,q):\n",
        "    lattice = np.zeros([n,n], dtype='int')\n",
        "    for i in range(0,n):\n",
        "        for j in range(0,n):\n",
        "            if i > p and i < q and j > p and j < q:\n",
        "                lattice[i,j]=1\n",
        "    return lattice"
      ],
      "execution_count": 73,
      "outputs": []
    },
    {
      "cell_type": "code",
      "metadata": {
        "id": "AGz7s98HgQwy",
        "colab_type": "code",
        "colab": {}
      },
      "source": [
        "lattice =  generate_lattice(30,0.5)"
      ],
      "execution_count": 63,
      "outputs": []
    },
    {
      "cell_type": "code",
      "metadata": {
        "id": "s4quY7g0iw9a",
        "colab_type": "code",
        "colab": {}
      },
      "source": [
        "lattice =  generate_lattice_pq(100,40,60)"
      ],
      "execution_count": 74,
      "outputs": []
    },
    {
      "cell_type": "code",
      "metadata": {
        "id": "5mXyGmwiWPZI",
        "colab_type": "code",
        "colab": {}
      },
      "source": [
        "import matplotlib.pyplot as plt"
      ],
      "execution_count": 3,
      "outputs": []
    },
    {
      "cell_type": "code",
      "metadata": {
        "id": "q-teXjr217IF",
        "colab_type": "code",
        "colab": {}
      },
      "source": [
        "x = lattice"
      ],
      "execution_count": 76,
      "outputs": []
    },
    {
      "cell_type": "code",
      "metadata": {
        "id": "o6ci6sier6w-",
        "colab_type": "code",
        "colab": {}
      },
      "source": [
        "x =  life_step(x)"
      ],
      "execution_count": 66,
      "outputs": []
    },
    {
      "cell_type": "code",
      "metadata": {
        "id": "BwHBUFC_ds4U",
        "colab_type": "code",
        "colab": {
          "base_uri": "https://localhost:8080/",
          "height": 285
        },
        "outputId": "28410b72-4c64-4725-bf01-2197da1a6f18"
      },
      "source": [
        "plt.imshow(x)"
      ],
      "execution_count": 77,
      "outputs": [
        {
          "output_type": "execute_result",
          "data": {
            "text/plain": [
              "<matplotlib.image.AxesImage at 0x7f3574fa5cc0>"
            ]
          },
          "metadata": {
            "tags": []
          },
          "execution_count": 77
        },
        {
          "output_type": "display_data",
          "data": {
            "image/png": "[encoded data removed]",
            "text/plain": [
              "<Figure size 432x288 with 1 Axes>"
            ]
          },
          "metadata": {
            "tags": [],
            "needs_background": "light"
          }
        }
      ]
    },
    {
      "cell_type": "code",
      "metadata": {
        "id": "fCsEt6POdusQ",
        "colab_type": "code",
        "colab": {
          "base_uri": "https://localhost:8080/",
          "height": 268
        },
        "outputId": "3f03fb5a-92e3-43b4-9b92-c44880542c60"
      },
      "source": [
        "fig = plt.figure()\n",
        "camera = Camera(fig)\n",
        "for i in range(1,100):\n",
        "    x =  life_step(x)\n",
        "    plt.imshow( x, cmap = 'magma')\n",
        "    camera.snap()\n",
        "animation = camera.animate()\n",
        "animation.save('gameoflife2.gif', writer = 'pillow')"
      ],
      "execution_count": 78,
      "outputs": [
        {
          "output_type": "display_data",
          "data": {
            "image/png": "[encoded data removed]",
            "text/plain": [
              "<Figure size 432x288 with 1 Axes>"
            ]
          },
          "metadata": {
            "tags": [],
            "needs_background": "light"
          }
        }
      ]
    },
    {
      "cell_type": "code",
      "metadata": {
        "id": "HMzQwLQw6KXC",
        "colab_type": "code",
        "colab": {
          "base_uri": "https://localhost:8080/",
          "height": 17
        },
        "outputId": "13434c97-c4b0-45ec-87f8-ccb44a6f1104"
      },
      "source": [
        "from google.colab import files\n",
        "files.download( \"gameoflife2.gif\" )    "
      ],
      "execution_count": 79,
      "outputs": [
        {
          "output_type": "display_data",
          "data": {
            "application/javascript": [
              "\n",
              "    async function download(id, filename, size) {\n",
              "      if (!google.colab.kernel.accessAllowed) {\n",
              "        return;\n",
              "      }\n",
              "      const div = document.createElement('div');\n",
              "      const label = document.createElement('label');\n",
              "      label.textContent = `Downloading \"${filename}\": `;\n",
              "      div.appendChild(label);\n",
              "      const progress = document.createElement('progress');\n",
              "      progress.max = size;\n",
              "      div.appendChild(progress);\n",
              "      document.body.appendChild(div);\n",
              "\n",
              "      const buffers = [];\n",
              "      let downloaded = 0;\n",
              "\n",
              "      const channel = await google.colab.kernel.comms.open(id);\n",
              "      // Send a message to notify the kernel that we're ready.\n",
              "      channel.send({})\n",
              "\n",
              "      for await (const message of channel.messages) {\n",
              "        // Send a message to notify the kernel that we're ready.\n",
              "        channel.send({})\n",
              "        if (message.buffers) {\n",
              "          for (const buffer of message.buffers) {\n",
              "            buffers.push(buffer);\n",
              "            downloaded += buffer.byteLength;\n",
              "            progress.value = downloaded;\n",
              "          }\n",
              "        }\n",
              "      }\n",
              "      const blob = new Blob(buffers, {type: 'application/binary'});\n",
              "      const a = document.createElement('a');\n",
              "      a.href = window.URL.createObjectURL(blob);\n",
              "      a.download = filename;\n",
              "      div.appendChild(a);\n",
              "      a.click();\n",
              "      div.remove();\n",
              "    }\n",
              "  "
            ],
            "text/plain": [
              "<IPython.core.display.Javascript object>"
            ]
          },
          "metadata": {
            "tags": []
          }
        },
        {
          "output_type": "display_data",
          "data": {
            "application/javascript": [
              "download(\"download_0ea2b418-bffb-4672-a74a-89b58d47d287\", \"gameoflife2.gif\", 944861)"
            ],
            "text/plain": [
              "<IPython.core.display.Javascript object>"
            ]
          },
          "metadata": {
            "tags": []
          }
        }
      ]
    },
    {
      "cell_type": "code",
      "metadata": {
        "id": "XKOC0GoX6PoA",
        "colab_type": "code",
        "colab": {}
      },
      "source": [
        ""
      ],
      "execution_count": null,
      "outputs": []
    }
  ]
}