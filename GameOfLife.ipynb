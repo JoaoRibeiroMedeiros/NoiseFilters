{
  "nbformat": 4,
  "nbformat_minor": 0,
  "metadata": {
    "colab": {
      "name": "GameOfLife.ipynb",
      "provenance": [],
      "collapsed_sections": [],
      "authorship_tag": "ABX9TyMHGrcUfijgVmZ3aOc4reXT"
    },
    "kernelspec": {
      "name": "python3",
      "display_name": "Python 3"
    }
  },
  "cells": [
    {
      "cell_type": "code",
      "metadata": {
        "id": "D_bspxDDUKlW",
        "colab_type": "code",
        "colab": {
          "base_uri": "https://localhost:8080/",
          "height": 173
        },
        "outputId": "2b067f4c-76b8-4f8d-a90c-cc7a88c27c7b"
      },
      "source": [
        "!pip install celluloid\n"
      ],
      "execution_count": 166,
      "outputs": [
        {
          "output_type": "stream",
          "text": [
            "Requirement already satisfied: celluloid in /usr/local/lib/python3.6/dist-packages (0.2.0)\n",
            "Requirement already satisfied: matplotlib in /usr/local/lib/python3.6/dist-packages (from celluloid) (3.2.2)\n",
            "Requirement already satisfied: kiwisolver>=1.0.1 in /usr/local/lib/python3.6/dist-packages (from matplotlib->celluloid) (1.2.0)\n",
            "Requirement already satisfied: cycler>=0.10 in /usr/local/lib/python3.6/dist-packages (from matplotlib->celluloid) (0.10.0)\n",
            "Requirement already satisfied: numpy>=1.11 in /usr/local/lib/python3.6/dist-packages (from matplotlib->celluloid) (1.18.5)\n",
            "Requirement already satisfied: pyparsing!=2.0.4,!=2.1.2,!=2.1.6,>=2.0.1 in /usr/local/lib/python3.6/dist-packages (from matplotlib->celluloid) (2.4.7)\n",
            "Requirement already satisfied: python-dateutil>=2.1 in /usr/local/lib/python3.6/dist-packages (from matplotlib->celluloid) (2.8.1)\n",
            "Requirement already satisfied: six in /usr/local/lib/python3.6/dist-packages (from cycler>=0.10->matplotlib->celluloid) (1.15.0)\n"
          ],
          "name": "stdout"
        }
      ]
    },
    {
      "cell_type": "code",
      "metadata": {
        "id": "lNAC7cBTg-wo",
        "colab_type": "code",
        "colab": {}
      },
      "source": [
        "import numpy as np\n",
        "from celluloid import Camera\n",
        "import matplotlib.pyplot as plt"
      ],
      "execution_count": 168,
      "outputs": []
    },
    {
      "cell_type": "code",
      "metadata": {
        "id": "Zd2S60Tyf7bk",
        "colab_type": "code",
        "colab": {}
      },
      "source": [
        "def evolve(lattice):\n",
        "    \"\"\"Conway Game of life\"\"\"\n",
        "    x = np.shape(lattice)[0]\n",
        "    y = np.shape(lattice)[1]\n",
        "    \n",
        "    lattice2 = np.copy(lattice) #without this line we have a maze generator!!!!!\n",
        "    \n",
        "    for i in range(0,x):\n",
        "        for j in range(0,y):\n",
        "            sum = 0\n",
        "            for k in [-1,0,1]:\n",
        "                for l in [-1,0,1]:\n",
        "                    if not (k ==0 and l ==0):     \n",
        "                        sum = sum + lattice[(i+k)%x][(j+l)%y]            \n",
        "            if lattice[i][j] == 0:\n",
        "                if sum == 3: \n",
        "                    lattice2[i][j] = 1 #reproduction \n",
        "            elif lattice[i][j] == 1:\n",
        "                if sum > 3: \n",
        "                    lattice2[i][j] = 0 #overpopulation\n",
        "                elif sum in [2,3]: \n",
        "                    lattice2[i][j] = 1 #stasis\n",
        "                elif sum in [0,1]: \n",
        "                    lattice2[i][j] = 0 #underpopulation\n",
        "    return lattice2"
      ],
      "execution_count": 165,
      "outputs": []
    },
    {
      "cell_type": "code",
      "metadata": {
        "id": "99gheS_lUWLA",
        "colab_type": "code",
        "colab": {}
      },
      "source": [
        "def generate_lattice(n,p):\n",
        "    lattice = np.zeros([n,n], dtype='int')\n",
        "    for i in range(0,n):\n",
        "        for j in range(0,n):\n",
        "            if np.random.uniform() < p:\n",
        "                lattice[i,j]=1\n",
        "    return lattice\n",
        "\n",
        "def generate_lattice_pq(n,p,q):\n",
        "    lattice = np.zeros([n,n], dtype='int')\n",
        "    for i in range(0,n):\n",
        "        for j in range(0,n):\n",
        "            if i > p and i < q and j > p and j < q:\n",
        "                lattice[i,j]=1\n",
        "    return lattice"
      ],
      "execution_count": null,
      "outputs": []
    },
    {
      "cell_type": "code",
      "metadata": {
        "id": "AGz7s98HgQwy",
        "colab_type": "code",
        "colab": {}
      },
      "source": [
        "X =  generate_lattice_pq(31,11,15)"
      ],
      "execution_count": 169,
      "outputs": []
    },
    {
      "cell_type": "code",
      "metadata": {
        "id": "BwHBUFC_ds4U",
        "colab_type": "code",
        "colab": {
          "base_uri": "https://localhost:8080/",
          "height": 283
        },
        "outputId": "81db5791-6ee0-4ba6-cbd3-b0907ee4ca98"
      },
      "source": [
        "plt.imshow(X)"
      ],
      "execution_count": 170,
      "outputs": [
        {
          "output_type": "execute_result",
          "data": {
            "text/plain": [
              "<matplotlib.image.AxesImage at 0x7f1feaeeb198>"
            ]
          },
          "metadata": {
            "tags": []
          },
          "execution_count": 170
        },
        {
          "output_type": "display_data",
          "data": {
            "image/png": "[encoded data removed]",
            "text/plain": [
              "<Figure size 432x288 with 1 Axes>"
            ]
          },
          "metadata": {
            "tags": [],
            "needs_background": "light"
          }
        }
      ]
    },
    {
      "cell_type": "code",
      "metadata": {
        "id": "qt1T4X0Y5IVD",
        "colab_type": "code",
        "colab": {
          "base_uri": "https://localhost:8080/",
          "height": 283
        },
        "outputId": "99d50057-56c4-4627-dbc1-31d80a3a9bd2"
      },
      "source": [
        "plt.imshow(evolve(X))"
      ],
      "execution_count": 171,
      "outputs": [
        {
          "output_type": "execute_result",
          "data": {
            "text/plain": [
              "<matplotlib.image.AxesImage at 0x7f1fe1bd1c50>"
            ]
          },
          "metadata": {
            "tags": []
          },
          "execution_count": 171
        },
        {
          "output_type": "display_data",
          "data": {
            "image/png": "[encoded data removed]",
            "text/plain": [
              "<Figure size 432x288 with 1 Axes>"
            ]
          },
          "metadata": {
            "tags": [],
            "needs_background": "light"
          }
        }
      ]
    },
    {
      "cell_type": "code",
      "metadata": {
        "id": "fCsEt6POdusQ",
        "colab_type": "code",
        "colab": {
          "base_uri": "https://localhost:8080/",
          "height": 267
        },
        "outputId": "91792bd1-39bb-4b2f-f55e-2f7393cefafc"
      },
      "source": [
        "Y =  generate_lattice(50,0.5)\n",
        "fig = plt.figure()\n",
        "camera = Camera(fig)\n",
        "for i in range(1,100):\n",
        "    plt.imshow( Y, cmap = 'magma')\n",
        "    Y =  evolve(Y)\n",
        "    camera.snap()\n",
        "animation = camera.animate()\n",
        "animation.save('gameoflife3.gif', writer = 'pillow')"
      ],
      "execution_count": 176,
      "outputs": [
        {
          "output_type": "display_data",
          "data": {
            "image/png": "[encoded data removed]",
            "text/plain": [
              "<Figure size 432x288 with 1 Axes>"
            ]
          },
          "metadata": {
            "tags": [],
            "needs_background": "light"
          }
        }
      ]
    },
    {
      "cell_type": "code",
      "metadata": {
        "id": "HMzQwLQw6KXC",
        "colab_type": "code",
        "colab": {
          "base_uri": "https://localhost:8080/",
          "height": 17
        },
        "outputId": "962d2b21-75aa-47fa-eb62-81f62f128772"
      },
      "source": [
        "from google.colab import files\n",
        "files.download( \"gameoflife3.gif\" )    "
      ],
      "execution_count": 177,
      "outputs": [
        {
          "output_type": "display_data",
          "data": {
            "application/javascript": [
              "\n",
              "    async function download(id, filename, size) {\n",
              "      if (!google.colab.kernel.accessAllowed) {\n",
              "        return;\n",
              "      }\n",
              "      const div = document.createElement('div');\n",
              "      const label = document.createElement('label');\n",
              "      label.textContent = `Downloading \"${filename}\": `;\n",
              "      div.appendChild(label);\n",
              "      const progress = document.createElement('progress');\n",
              "      progress.max = size;\n",
              "      div.appendChild(progress);\n",
              "      document.body.appendChild(div);\n",
              "\n",
              "      const buffers = [];\n",
              "      let downloaded = 0;\n",
              "\n",
              "      const channel = await google.colab.kernel.comms.open(id);\n",
              "      // Send a message to notify the kernel that we're ready.\n",
              "      channel.send({})\n",
              "\n",
              "      for await (const message of channel.messages) {\n",
              "        // Send a message to notify the kernel that we're ready.\n",
              "        channel.send({})\n",
              "        if (message.buffers) {\n",
              "          for (const buffer of message.buffers) {\n",
              "            buffers.push(buffer);\n",
              "            downloaded += buffer.byteLength;\n",
              "            progress.value = downloaded;\n",
              "          }\n",
              "        }\n",
              "      }\n",
              "      const blob = new Blob(buffers, {type: 'application/binary'});\n",
              "      const a = document.createElement('a');\n",
              "      a.href = window.URL.createObjectURL(blob);\n",
              "      a.download = filename;\n",
              "      div.appendChild(a);\n",
              "      a.click();\n",
              "      div.remove();\n",
              "    }\n",
              "  "
            ],
            "text/plain": [
              "<IPython.core.display.Javascript object>"
            ]
          },
          "metadata": {
            "tags": []
          }
        },
        {
          "output_type": "display_data",
          "data": {
            "application/javascript": [
              "download(\"download_d68142ea-defa-4c00-b119-887fa18e21b7\", \"gameoflife3.gif\", 1463806)"
            ],
            "text/plain": [
              "<IPython.core.display.Javascript object>"
            ]
          },
          "metadata": {
            "tags": []
          }
        }
      ]
    },
    {
      "cell_type": "markdown",
      "metadata": {
        "id": "OjoKTVAkDPmS",
        "colab_type": "text"
      },
      "source": [
        "#viterbi"
      ]
    },
    {
      "cell_type": "code",
      "metadata": {
        "id": "XKOC0GoX6PoA",
        "colab_type": "code",
        "colab": {}
      },
      "source": [
        "obs = (\"normal\", \"cold\", \"dizzy\")\n",
        "states = (\"Healthy\", \"Fever\")\n",
        "start_p = {\"Healthy\": 0.6, \"Fever\": 0.4}\n",
        "trans_p = {\n",
        "    \"Healthy\": {\"Healthy\": 0.7, \"Fever\": 0.3},\n",
        "    \"Fever\": {\"Healthy\": 0.4, \"Fever\": 0.6},\n",
        "}\n",
        "emit_p = {\n",
        "    \"Healthy\": {\"normal\": 0.5, \"cold\": 0.4, \"dizzy\": 0.1},\n",
        "    \"Fever\": {\"normal\": 0.1, \"cold\": 0.3, \"dizzy\": 0.6},\n",
        "}"
      ],
      "execution_count": null,
      "outputs": []
    }
  ]
}